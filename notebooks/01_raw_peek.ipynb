{
 "cells": [
  {
   "cell_type": "code",
   "execution_count": 16,
   "id": "953718bd-7ac8-494d-a0e1-ae6403527977",
   "metadata": {},
   "outputs": [
    {
     "data": {
      "text/plain": [
       "PosixPath('../data/raw/full_2025-05-26_1136.ndjson')"
      ]
     },
     "execution_count": 16,
     "metadata": {},
     "output_type": "execute_result"
    }
   ],
   "source": [
    "# 01 - Imports & path helpers\n",
    "from pathlib import Path\n",
    "import json, itertools\n",
    "import pandas as pd\n",
    "\n",
    "DATA_DIR = Path(\"..\") / \"data\" / \"raw\"\n",
    "RAW = sorted(DATA_DIR.glob(\"full_*.ndjson\"))[-1]   # latest pull\n",
    "RAW"
   ]
  },
  {
   "cell_type": "code",
   "execution_count": 17,
   "id": "9b5ba198-4cab-473d-9f33-9a2ee9ffd8da",
   "metadata": {},
   "outputs": [
    {
     "data": {
      "text/plain": [
       "{'itemId': 'v1|235398389941|536188920244',\n",
       " 'title': 'Apple iPhone 12, 64/128/256GB -  Unlocked - Used Good - All colors',\n",
       " 'itemGroupHref': 'https://api.ebay.com/buy/browse/v1/item/get_items_by_item_group?item_group_id=235398389941',\n",
       " 'leafCategoryIds': ['9355'],\n",
       " 'categories': [{'categoryId': '9355',\n",
       "   'categoryName': 'Cell Phones & Smartphones'},\n",
       "  {'categoryId': '15032', 'categoryName': 'Cell Phones & Accessories'}],\n",
       " 'image': {'imageUrl': 'https://i.ebayimg.com/images/g/t4wAAOSwg4hkCgdI/s-l225.jpg'},\n",
       " 'price': {'value': '209.99', 'currency': 'USD'},\n",
       " 'itemGroupType': 'SELLER_DEFINED_VARIATIONS',\n",
       " 'itemHref': 'https://api.ebay.com/buy/browse/v1/item/v1%7C235398389941%7C536188920244',\n",
       " 'seller': {'username': 'electronicdea1s',\n",
       "  'feedbackPercentage': '98.0',\n",
       "  'feedbackScore': 10796},\n",
       " 'marketingPrice': {'originalPrice': {'value': '219.99', 'currency': 'USD'},\n",
       "  'discountPercentage': '5',\n",
       "  'discountAmount': {'value': '10.00', 'currency': 'USD'}},\n",
       " 'condition': 'Used',\n",
       " 'conditionId': '3000',\n",
       " 'thumbnailImages': [{'imageUrl': 'https://i.ebayimg.com/images/g/t4wAAOSwg4hkCgdI/s-l1200.jpg'}],\n",
       " 'shippingOptions': [{'shippingCostType': 'FIXED',\n",
       "   'shippingCost': {'value': '0.00', 'currency': 'USD'}}],\n",
       " 'buyingOptions': ['FIXED_PRICE'],\n",
       " 'epid': '13073675463',\n",
       " 'itemWebUrl': 'https://www.ebay.com/itm/235398389941?hash=item36ced660b5:g:t4wAAOSwg4hkCgdI&amdata=enc%3AAQAKAAAA4PeG5RIuIyokJHJy903%2F5UZFXnJD8%2BCDSixTe%2FBhxS7EQsQIGTqkYIXrCqStn8G29fz5vXUjOUtaj%2FAXU3x0XRwAbWYUbTtwLOtMgpTSU0GCHqzW7WiWXl43qIKDtO8yWMj%2Bsay1d9UM8iDDy2dFKC%2FOmL8VYpoDmUyUjzlvzdqCY9jGJMSzJFA1syr%2BMnIHDqRKkiSKEYbSDnNGN%2BS8EuVCVteyjeItfuFN%2BMfQ4OghGBVfNQ6Tqj3XljpIcjJQdvRg1l4jnW5nY6SdmQ2h9mCpxRL3xZh4W959xJA6fMDh',\n",
       " 'itemLocation': {'postalCode': '112**', 'country': 'US'},\n",
       " 'additionalImages': [{'imageUrl': 'https://i.ebayimg.com/images/g/xfQAAOSwPHRkCgdY/s-l225.jpg'},\n",
       "  {'imageUrl': 'https://i.ebayimg.com/images/g/xZYAAOSwL9BkCg7v/s-l225.jpg'},\n",
       "  {'imageUrl': 'https://i.ebayimg.com/images/g/yKsAAOSw2MZkCg7v/s-l225.jpg'},\n",
       "  {'imageUrl': 'https://i.ebayimg.com/images/g/g8AAAOSwt0xkCg~R/s-l225.jpg'},\n",
       "  {'imageUrl': 'https://i.ebayimg.com/images/g/Ip8AAOSwBSxkCg~R/s-l225.jpg'},\n",
       "  {'imageUrl': 'https://i.ebayimg.com/images/g/-okAAOSw0w9kCg~R/s-l225.jpg'},\n",
       "  {'imageUrl': 'https://i.ebayimg.com/images/g/PsEAAOSwU-BkCg~R/s-l225.jpg'}],\n",
       " 'adultOnly': False,\n",
       " 'legacyItemId': '235398389941',\n",
       " 'availableCoupons': False,\n",
       " 'itemOriginDate': '2024-01-22T19:28:46.000Z',\n",
       " 'itemCreationDate': '2024-01-22T19:28:46.000Z',\n",
       " 'topRatedBuyingExperience': True,\n",
       " 'priorityListing': True,\n",
       " 'listingMarketplaceId': 'EBAY_US',\n",
       " 'snapshot_ts': '2025-05-26T15:36:56.938273'}"
      ]
     },
     "execution_count": 17,
     "metadata": {},
     "output_type": "execute_result"
    }
   ],
   "source": [
    "# 02 - Peek at first 3 lines\n",
    "with RAW.open() as fh:\n",
    "    sample = [json.loads(next(fh)) for _ in range(3)]\n",
    "sample[0]\n"
   ]
  },
  {
   "cell_type": "code",
   "execution_count": 18,
   "id": "ec389818-d8f9-4603-8002-6acbfed99f8f",
   "metadata": {},
   "outputs": [
    {
     "data": {
      "text/plain": [
       "[('itemId', 'v1|235398389941|536188920244'),\n",
       " ('title',\n",
       "  'Apple iPhone 12, 64/128/256GB -  Unlocked - Used Good - All colors'),\n",
       " ('itemGroupHref',\n",
       "  'https://api.ebay.com/buy/browse/v1/item/get_items_by_item_group?item_group_id=235398389941'),\n",
       " ('leafCategoryIds', ['9355']),\n",
       " ('categories',\n",
       "  [{'categoryId': '9355', 'categoryName': 'Cell Phones & Smartphones'},\n",
       "   {'categoryId': '15032', 'categoryName': 'Cell Phones & Accessories'}]),\n",
       " ('image.imageUrl',\n",
       "  'https://i.ebayimg.com/images/g/t4wAAOSwg4hkCgdI/s-l225.jpg'),\n",
       " ('price.value', '209.99'),\n",
       " ('price.currency', 'USD'),\n",
       " ('itemGroupType', 'SELLER_DEFINED_VARIATIONS'),\n",
       " ('itemHref',\n",
       "  'https://api.ebay.com/buy/browse/v1/item/v1%7C235398389941%7C536188920244'),\n",
       " ('seller.username', 'electronicdea1s'),\n",
       " ('seller.feedbackPercentage', '98.0'),\n",
       " ('seller.feedbackScore', 10796),\n",
       " ('marketingPrice.originalPrice.value', '219.99'),\n",
       " ('marketingPrice.originalPrice.currency', 'USD'),\n",
       " ('marketingPrice.discountPercentage', '5'),\n",
       " ('marketingPrice.discountAmount.value', '10.00'),\n",
       " ('marketingPrice.discountAmount.currency', 'USD'),\n",
       " ('condition', 'Used'),\n",
       " ('conditionId', '3000'),\n",
       " ('thumbnailImages',\n",
       "  [{'imageUrl': 'https://i.ebayimg.com/images/g/t4wAAOSwg4hkCgdI/s-l1200.jpg'}]),\n",
       " ('shippingOptions',\n",
       "  [{'shippingCostType': 'FIXED',\n",
       "    'shippingCost': {'value': '0.00', 'currency': 'USD'}}]),\n",
       " ('buyingOptions', ['FIXED_PRICE']),\n",
       " ('epid', '13073675463'),\n",
       " ('itemWebUrl',\n",
       "  'https://www.ebay.com/itm/235398389941?hash=item36ced660b5:g:t4wAAOSwg4hkCgdI&amdata=enc%3AAQAKAAAA4PeG5RIuIyokJHJy903%2F5UZFXnJD8%2BCDSixTe%2FBhxS7EQsQIGTqkYIXrCqStn8G29fz5vXUjOUtaj%2FAXU3x0XRwAbWYUbTtwLOtMgpTSU0GCHqzW7WiWXl43qIKDtO8yWMj%2Bsay1d9UM8iDDy2dFKC%2FOmL8VYpoDmUyUjzlvzdqCY9jGJMSzJFA1syr%2BMnIHDqRKkiSKEYbSDnNGN%2BS8EuVCVteyjeItfuFN%2BMfQ4OghGBVfNQ6Tqj3XljpIcjJQdvRg1l4jnW5nY6SdmQ2h9mCpxRL3xZh4W959xJA6fMDh'),\n",
       " ('itemLocation.postalCode', '112**'),\n",
       " ('itemLocation.country', 'US'),\n",
       " ('additionalImages',\n",
       "  [{'imageUrl': 'https://i.ebayimg.com/images/g/xfQAAOSwPHRkCgdY/s-l225.jpg'},\n",
       "   {'imageUrl': 'https://i.ebayimg.com/images/g/xZYAAOSwL9BkCg7v/s-l225.jpg'},\n",
       "   {'imageUrl': 'https://i.ebayimg.com/images/g/yKsAAOSw2MZkCg7v/s-l225.jpg'},\n",
       "   {'imageUrl': 'https://i.ebayimg.com/images/g/g8AAAOSwt0xkCg~R/s-l225.jpg'},\n",
       "   {'imageUrl': 'https://i.ebayimg.com/images/g/Ip8AAOSwBSxkCg~R/s-l225.jpg'},\n",
       "   {'imageUrl': 'https://i.ebayimg.com/images/g/-okAAOSw0w9kCg~R/s-l225.jpg'},\n",
       "   {'imageUrl': 'https://i.ebayimg.com/images/g/PsEAAOSwU-BkCg~R/s-l225.jpg'}]),\n",
       " ('adultOnly', False),\n",
       " ('legacyItemId', '235398389941'),\n",
       " ('availableCoupons', False),\n",
       " ('itemOriginDate', '2024-01-22T19:28:46.000Z'),\n",
       " ('itemCreationDate', '2024-01-22T19:28:46.000Z'),\n",
       " ('topRatedBuyingExperience', True),\n",
       " ('priorityListing', True),\n",
       " ('listingMarketplaceId', 'EBAY_US'),\n",
       " ('snapshot_ts', '2025-05-26T15:36:56.938273')]"
      ]
     },
     "execution_count": 18,
     "metadata": {},
     "output_type": "execute_result"
    }
   ],
   "source": [
    "# 03 - Flatten *one* record quickly to eyeball nested keys\n",
    "def walk(d, prefix=\"\"):\n",
    "    for k, v in d.items():\n",
    "        key = f\"{prefix}.{k}\" if prefix else k\n",
    "        if isinstance(v, dict):\n",
    "            yield from walk(v, key)\n",
    "        else:\n",
    "            yield key, v\n",
    "\n",
    "flat_keys = list(walk(sample[0]))\n",
    "flat_keys[:40]          # first bunch\n"
   ]
  },
  {
   "cell_type": "code",
   "execution_count": 19,
   "id": "718eec19-bcfc-451f-b30e-9f8eaff2a611",
   "metadata": {},
   "outputs": [
    {
     "data": {
      "text/plain": [
       "Counter({'itemId': 100,\n",
       "         'title': 100,\n",
       "         'leafCategoryIds': 100,\n",
       "         'categories': 100,\n",
       "         'price': 100,\n",
       "         'itemHref': 100,\n",
       "         'seller': 100,\n",
       "         'condition': 100,\n",
       "         'conditionId': 100,\n",
       "         'buyingOptions': 100,\n",
       "         'itemWebUrl': 100,\n",
       "         'itemLocation': 100,\n",
       "         'adultOnly': 100,\n",
       "         'legacyItemId': 100,\n",
       "         'availableCoupons': 100,\n",
       "         'itemOriginDate': 100,\n",
       "         'itemCreationDate': 100,\n",
       "         'topRatedBuyingExperience': 100,\n",
       "         'priorityListing': 100,\n",
       "         'listingMarketplaceId': 100,\n",
       "         'snapshot_ts': 100,\n",
       "         'image': 99,\n",
       "         'thumbnailImages': 99,\n",
       "         'shippingOptions': 99,\n",
       "         'epid': 85,\n",
       "         'itemGroupHref': 76,\n",
       "         'itemGroupType': 76,\n",
       "         'additionalImages': 68,\n",
       "         'marketingPrice': 37,\n",
       "         'pickupOptions': 1})"
      ]
     },
     "execution_count": 19,
     "metadata": {},
     "output_type": "execute_result"
    }
   ],
   "source": [
    "# 04 - Frequency of all top-level keys (100-row slice)\n",
    "from collections import Counter\n",
    "cnt = Counter()\n",
    "with RAW.open() as fh:\n",
    "    for line in itertools.islice(fh, 0, 100):\n",
    "        cnt.update(json.loads(line).keys())\n",
    "cnt"
   ]
  },
  {
   "cell_type": "code",
   "execution_count": 23,
   "id": "22850a1e-c603-49e2-9a76-357d45ae9470",
   "metadata": {},
   "outputs": [
    {
     "data": {
      "text/plain": [
       "['itemId',\n",
       " 'title',\n",
       " 'condition',\n",
       " 'categoryId',\n",
       " 'soldDate',\n",
       " 'soldPrice',\n",
       " 'seller',\n",
       " 'listingFormat',\n",
       " 'image',\n",
       " 'itemLocation',\n",
       " 'buyingOptions']"
      ]
     },
     "execution_count": 23,
     "metadata": {},
     "output_type": "execute_result"
    }
   ],
   "source": [
    "# 05 - Decide on columns to keep\n",
    "KEEP = [\n",
    "    \"itemId\", \"title\", \"condition\", \"categoryId\",\n",
    "    \"soldDate\", \"soldPrice\", \"seller\", \"listingFormat\",\n",
    "    \"image\", \"itemLocation\", \"buyingOptions\",\n",
    "]\n",
    "KEEP"
   ]
  },
  {
   "cell_type": "code",
   "execution_count": null,
   "id": "4baf5fdd-5eab-43d5-be5c-5aa1d4492c03",
   "metadata": {},
   "outputs": [],
   "source": []
  },
  {
   "cell_type": "code",
   "execution_count": null,
   "id": "a426d305-1a3f-450f-9d23-ee6143368ada",
   "metadata": {},
   "outputs": [],
   "source": []
  }
 ],
 "metadata": {
  "kernelspec": {
   "display_name": "Python 3 (ipykernel)",
   "language": "python",
   "name": "python3"
  },
  "language_info": {
   "codemirror_mode": {
    "name": "ipython",
    "version": 3
   },
   "file_extension": ".py",
   "mimetype": "text/x-python",
   "name": "python",
   "nbconvert_exporter": "python",
   "pygments_lexer": "ipython3",
   "version": "3.12.7"
  }
 },
 "nbformat": 4,
 "nbformat_minor": 5
}
